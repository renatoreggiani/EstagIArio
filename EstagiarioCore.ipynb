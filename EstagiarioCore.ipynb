{
 "cells": [
  {
   "cell_type": "code",
   "execution_count": 1,
   "metadata": {},
   "outputs": [],
   "source": [
    "#@autor Gustavo Moss /Renato Regianne\n",
    "import speech_recognition as sr\n",
    "from gtts import gTTS\n",
    "from playsound import playsound\n",
    "from comandos import *\n",
    "from abc import ABCMeta, abstractmethod\n",
    "from Interpretador import *\n"
   ]
  },
  {
   "cell_type": "code",
   "execution_count": 6,
   "metadata": {},
   "outputs": [],
   "source": [
    "class ComunicacaoEstagiario(object):\n",
    "\n",
    "    def cria_audio(audio):\n",
    "        tts = gTTS(audio, lang='pt-br')\n",
    "        # Salva o arquivo de audio\n",
    "        tts.save('/home/moss/IA/teste.mp3')  # corrigir\n",
    "        print(\"sim mestre\")\n",
    "        # Da play ao audio\n",
    "        playsound('/home/moss/IA/teste.mp3')  # corrigir\n",
    "\n",
    "   \n",
    "    def ouvir_microfone(self,texto_de_espera):\n",
    "        \"\"\"Funcao responsavel por ouvir e reconhecer a fala\"\"\"\n",
    "        microfone = sr.Recognizer()  # Habilita o microfone para ouvir o usuario\n",
    "        with sr.Microphone() as source:\n",
    "            microfone.adjust_for_ambient_noise(source)  # Chama a funcao de reducao de ruido\n",
    "            print(texto_de_espera, ' ' * 20, end='\\r', flush=True)\n",
    "            # microfone.pause_threshold = 0.8\n",
    "            audio = microfone.listen(source, timeout=None)  # Armazena a informacao de audio na variavel\n",
    "        try:\n",
    "            texto = microfone.recognize_google(audio, language='pt-BR')  # Transforma audio em texto\n",
    "            print(\"Você disse: \" + texto, ' ' * 20, end='\\r', flush=True)\n",
    "            return texto.lower()\n",
    "        # Caso nao tenha reconhecido o padrao de fala, exibe esta mensagem\n",
    "        except sr.UnknownValueError:\n",
    "            return \"Não entendi\"\n"
   ]
  },
  {
   "cell_type": "code",
   "execution_count": 11,
   "metadata": {
    "pycharm": {
     "is_executing": true
    }
   },
   "outputs": [],
   "source": [
    "class ComandosEstagiario(object):\n",
    "    __metaclass__ = ABCMeta\n",
    "\n",
    "    @abstractmethod\n",
    "    def _lista_de_comandos(self):\n",
    "        pass\n",
    "\n",
    "    def __seleciona_comando(self, comando):\n",
    "        comandos = self.lista_de_comandos\n",
    "        if comando in comandos.keys():\n",
    "            return True\n",
    "\n",
    "    @staticmethod\n",
    "    def __identifica_comando(frase):\n",
    "        cmd = identifica_comando(frase)\n",
    "        return cmd\n",
    "\n",
    "    def _executa_comando(self, voz):\n",
    "        comando = ComandosEstagiario.__identifica_comando(voz)\n",
    "        try:\n",
    "            comando = comando['acao_rad'] + '_' + comando['complem_rad']\n",
    "            if self.__seleciona_comando(comando):\n",
    "                return eval(f'{comando}()')\n",
    "            else:\n",
    "                # vai ter uma funcao pra ele falar(audio)\n",
    "                print('desculpe mestre eu nao sei fazer isso,sei fazer apenas isso:\\n')\n",
    "                return list_com()\n",
    "        except KeyError:\n",
    "            print(KeyError)\n"
   ]
  },
  {
   "cell_type": "code",
   "execution_count": 12,
   "metadata": {
    "pycharm": {
     "is_executing": true
    }
   },
   "outputs": [],
   "source": [
    "class Estagiario(ComandosEstagiario, ComunicacaoEstagiario):\n",
    "\n",
    "    def __init__(self, microfone=True):\n",
    "        self._lista_de_comandos = self._manipula_lista_de_comandos()\n",
    "        self.microfone = microfone\n",
    "\n",
    "    def ativar_estagiario(self):\n",
    "        frase = self.ouvir_microfone('Chame o Estagiário para começar') if self.microfone else input('Chamar: ')\n",
    "        if 'estagiário' in frase:\n",
    "            frase = self.ouvir_microfone('Oque devo fazer?') if self.microfone else input('Oque deve fazer: ')\n",
    "            print(self._executa_comando(frase))\n",
    "        else:\n",
    "            print('estou dormindo', ' ' * 20, end='\\r', flush=True)\n",
    "            self.ativar_estagiario()\n",
    "\n",
    "    def _manipula_lista_de_comandos(self):\n",
    "        with open('listaDeComandos.txt', 'r') as arquivo:\n",
    "            dic = arquivo.read()\n",
    "            dic = eval(dic)\n",
    "        return dic\n",
    "    \n",
    "    @property\n",
    "    def lista_de_comandos(self):\n",
    "        return self._lista_de_comandos\n",
    "\n",
    "    def interface(self):\n",
    "        self.ativar_estagiario()\n",
    "        self.interface()\n"
   ]
  },
  {
   "cell_type": "code",
   "execution_count": 13,
   "metadata": {
    "pycharm": {
     "is_executing": true
    },
    "scrolled": false
   },
   "outputs": [
    {
     "name": "stdout",
     "output_type": "stream",
     "text": [
      "Iniciando estagiário\n",
      "Chamar: estagiário\n",
      "Oque deve fazer: somar conta\n",
      "2\n",
      "Chamar: estagiário\n",
      "Oque deve fazer: finalizar sistema\n"
     ]
    },
    {
     "ename": "SystemExit",
     "evalue": "",
     "output_type": "error",
     "traceback": [
      "An exception has occurred, use %tb to see the full traceback.\n",
      "\u001b[0;31mSystemExit\u001b[0m\n"
     ]
    },
    {
     "name": "stderr",
     "output_type": "stream",
     "text": [
      "/usr/lib/python3/dist-packages/IPython/core/interactiveshell.py:2890: UserWarning: To exit: use 'exit', 'quit', or Ctrl-D.\n",
      "  warn(\"To exit: use 'exit', 'quit', or Ctrl-D.\", stacklevel=1)\n"
     ]
    }
   ],
   "source": [
    "if __name__ == '__main__':\n",
    "    print('Iniciando estagiário')\n",
    "    e = Estagiario(microfone=False)\n",
    "    e.interface()"
   ]
  },
  {
   "cell_type": "code",
   "execution_count": 14,
   "metadata": {},
   "outputs": [
    {
     "data": {
      "text/plain": [
       "{'abr_sit': 'abrir site - abre um site',\n",
       " 'final_sistem': 'finalizar sistema - finaliza o estagiario',\n",
       " 'list_com': 'lista de comandos - exibi lista de comandos',\n",
       " 'som_cont': 'somar conta - soma dois numeros',\n",
       " 'subtra_cont': 'subtrair conta  - subtrai dois numeros'}"
      ]
     },
     "execution_count": 14,
     "metadata": {},
     "output_type": "execute_result"
    }
   ],
   "source": [
    "e.lista_de_comandos"
   ]
  },
  {
   "cell_type": "code",
   "execution_count": null,
   "metadata": {},
   "outputs": [],
   "source": []
  }
 ],
 "metadata": {
  "kernelspec": {
   "display_name": "Python 3",
   "language": "python",
   "name": "python3"
  },
  "language_info": {
   "codemirror_mode": {
    "name": "ipython",
    "version": 3
   },
   "file_extension": ".py",
   "mimetype": "text/x-python",
   "name": "python",
   "nbconvert_exporter": "python",
   "pygments_lexer": "ipython3",
   "version": "3.6.9"
  },
  "latex_envs": {
   "LaTeX_envs_menu_present": true,
   "autoclose": false,
   "autocomplete": true,
   "bibliofile": "biblio.bib",
   "cite_by": "apalike",
   "current_citInitial": 1,
   "eqLabelWithNumbers": true,
   "eqNumInitial": 1,
   "hotkeys": {
    "equation": "Ctrl-E",
    "itemize": "Ctrl-I"
   },
   "labels_anchors": false,
   "latex_user_defs": false,
   "report_style_numbering": false,
   "user_envs_cfg": false
  }
 },
 "nbformat": 4,
 "nbformat_minor": 2
}
