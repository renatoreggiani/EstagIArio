{
 "cells": [
  {
   "cell_type": "code",
   "execution_count": 1,
   "metadata": {},
   "outputs": [],
   "source": [
    "#@autor Gustavo Moss /Renato Regianne\n",
    "import speech_recognition as sr\n",
    "from gtts import gTTS\n",
    "from unicodedata import normalize\n",
    "from playsound import playsound\n",
    "import os\n",
    "import sys\n",
    "from diretorio.comandos import *\n",
    "import spacy\n",
    "from nltk import RSLPStemmer\n",
    "from abc import ABCMeta, abstractmethod\n",
    "nlp = spacy.load('pt_core_news_sm')\n",
    "from Interpretador import *"
   ]
  },
  {
   "cell_type": "code",
   "execution_count": 2,
   "metadata": {},
   "outputs": [],
   "source": [
    "class ComunicacaoEstagiario(object):\n",
    "    \n",
    "    def cria_audio(audio):\n",
    "        tts = gTTS(audio,lang='pt-br')\n",
    "        #Salva o arquivo de audio\n",
    "        tts.save('/home/moss/IA/teste.mp3')\n",
    "        print(\"sim mestre\")\n",
    "        #Da play ao audio\n",
    "        playsound('/home/moss/IA/teste.mp3')\n",
    "\n",
    "    \n",
    "    def ouvir_microfone():\n",
    "        \"\"\"Funcao responsavel por ouvir e reconhecer a fala\"\"\"\n",
    "        microfone = sr.Recognizer()  # Habilita o microfone para ouvir o usuario\n",
    "        with sr.Microphone() as source:\n",
    "            microfone.adjust_for_ambient_noise(source)  # Chama a funcao de reducao de ruido\n",
    "            print(\"Diga alguma coisa: \")\n",
    "            #microfone.pause_threshold = 0.8\n",
    "            audio = microfone.listen(source,timeout=None)  # Armazena a informacao de audio na variavel\n",
    "            \n",
    "        try:\n",
    "            texto = microfone.recognize_google(audio, language='pt-BR')  # Transforma audio em texto\n",
    "            print(\"Você disse: \" + texto)\n",
    "            return texto.lower()\n",
    "        # Caso nao tenha reconhecido o padrao de fala, exibe esta mensagem\n",
    "        except sr.WaitTimeoutError:\n",
    "            print(\"Não entendi\")\n",
    "            \n",
    "    "
   ]
  },
  {
   "cell_type": "code",
   "execution_count": 3,
   "metadata": {},
   "outputs": [],
   "source": [
    "class ComandosEstagiario(object):\n",
    "        \n",
    "        __metaclass__=ABCMeta\n",
    "        \n",
    "        @abstractmethod\n",
    "        def _listaDeComandos():\n",
    "            pass\n",
    "        \n",
    "        \n",
    "        def __selecionaComando(self,comando):\n",
    "            comandos=self.listaDeComandos()\n",
    "            if comando in comandos.keys():\n",
    "                return True\n",
    "    \n",
    "        @staticmethod\n",
    "        def __identificaComando(frase):\n",
    "            cmd=identifica_comando(frase)\n",
    "            return cmd\n",
    "            \n",
    "            \n",
    "        def _executaComando(self,voz):\n",
    "            comando=ComandosEstagiario.__identificaComando(voz)\n",
    "            comando=comando['acao_rad']+'_'+comando['complem_rad']\n",
    "            print(comando)\n",
    "            if self.__selecionaComando(comando):\n",
    "                return eval(f'{comando}()')     \n",
    "            else:\n",
    "                #vai ter uma funcao pra ele falar(audio)\n",
    "                print('desculpe mestre eu nao sei fazer isso,sei fazer apenas isso:\\n')\n",
    "                return list_com()\n",
    "            \n",
    "\n",
    "                    \n",
    "    "
   ]
  },
  {
   "cell_type": "code",
   "execution_count": 8,
   "metadata": {},
   "outputs": [],
   "source": [
    "class Estagiario(ComandosEstagiario,ComunicacaoEstagiario):\n",
    "    \n",
    "    def __init__(self):\n",
    "        self._listaDeComandos=self._manipulaListaDeComandos()\n",
    "        self._status='DISABLED'\n",
    "    \n",
    "    def activatedEstagiario(self,frase):\n",
    "        frase =frase.capitalize().strip()\n",
    "        if frase =='Estagiario':\n",
    "            self._status=\"ACTIVATED\"\n",
    "        elif self._status == 'DISABLED':\n",
    "            print('estou dormindo')\n",
    "            #frase=self.ouvir_microfone()\n",
    "            frase=input('comando:')\n",
    "            self.activatedEstagiario(frase)       \n",
    "         \n",
    "    \n",
    "    def _manipulaListaDeComandos(self):\n",
    "            with open('listaDeComandos.txt','r') as arquivo:\n",
    "                dic=arquivo.read()\n",
    "                dic=eval(dic)\n",
    "            return dic\n",
    "        \n",
    "    def listaDeComandos(self):\n",
    "        return self._listaDeComandos\n",
    "        \n",
    "    def interface(self):\n",
    "        #frase=self.ouvir_microfone() #automatizado \n",
    "        frase=input('comando:')#manual para testes\n",
    "        self.activatedEstagiario(frase)\n",
    "        #frase=self.ouvir_microfone() #automatizado \n",
    "        frase=input('comando:')#manual para testes\n",
    "        print(self._executaComando(frase))\n",
    "        self.interface()\n"
   ]
  },
  {
   "cell_type": "code",
   "execution_count": 9,
   "metadata": {
    "scrolled": true
   },
   "outputs": [
    {
     "name": "stdout",
     "output_type": "stream",
     "text": [
      "comando:estagiario\n",
      "comando:finalizar sistema\n",
      "final_sistem\n"
     ]
    },
    {
     "ename": "SystemExit",
     "evalue": "",
     "output_type": "error",
     "traceback": [
      "An exception has occurred, use %tb to see the full traceback.\n",
      "\u001b[0;31mSystemExit\u001b[0m\n"
     ]
    },
    {
     "name": "stderr",
     "output_type": "stream",
     "text": [
      "/usr/lib/python3/dist-packages/IPython/core/interactiveshell.py:2890: UserWarning: To exit: use 'exit', 'quit', or Ctrl-D.\n",
      "  warn(\"To exit: use 'exit', 'quit', or Ctrl-D.\", stacklevel=1)\n"
     ]
    }
   ],
   "source": [
    "if __name__ == '__main__':\n",
    "    e=Estagiario()\n",
    "\n",
    "    e.interface()"
   ]
  }
 ],
 "metadata": {
  "kernelspec": {
   "display_name": "Python 3",
   "language": "python",
   "name": "python3"
  },
  "language_info": {
   "codemirror_mode": {
    "name": "ipython",
    "version": 3
   },
   "file_extension": ".py",
   "mimetype": "text/x-python",
   "name": "python",
   "nbconvert_exporter": "python",
   "pygments_lexer": "ipython3",
   "version": "3.6.9"
  },
  "latex_envs": {
   "LaTeX_envs_menu_present": true,
   "autoclose": false,
   "autocomplete": true,
   "bibliofile": "biblio.bib",
   "cite_by": "apalike",
   "current_citInitial": 1,
   "eqLabelWithNumbers": true,
   "eqNumInitial": 1,
   "hotkeys": {
    "equation": "Ctrl-E",
    "itemize": "Ctrl-I"
   },
   "labels_anchors": false,
   "latex_user_defs": false,
   "report_style_numbering": false,
   "user_envs_cfg": false
  }
 },
 "nbformat": 4,
 "nbformat_minor": 2
}
