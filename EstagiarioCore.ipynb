{
 "cells": [
  {
   "cell_type": "code",
   "execution_count": 1,
   "metadata": {},
   "outputs": [],
   "source": [
    "#@autor Gustavo Moss /Renato Regianne\n",
    "import speech_recognition as sr\n",
    "from gtts import gTTS\n",
    "from unicodedata import normalize\n",
    "from playsound import playsound\n",
    "import os\n",
    "import sys\n",
    "from diretorio.comandos import *\n",
    "from abc import ABCMeta, abstractmethod\n",
    "from Interpretador import *"
   ]
  },
  {
   "cell_type": "code",
   "execution_count": 2,
   "metadata": {},
   "outputs": [],
   "source": [
    "class ComunicacaoEstagiario(object):\n",
    "    \n",
    "    def cria_audio(audio):\n",
    "        tts = gTTS(audio,lang='pt-br')\n",
    "        #Salva o arquivo de audio\n",
    "        tts.save('/home/moss/IA/teste.mp3')\n",
    "        print(\"sim mestre\")\n",
    "        #Da play ao audio\n",
    "        playsound('/home/moss/IA/teste.mp3')\n",
    "    \n",
    "    @staticmethod\n",
    "    def ouvir_microfone(texto_de_espera):\n",
    "        \"\"\"Funcao responsavel por ouvir e reconhecer a fala\"\"\"\n",
    "        microfone = sr.Recognizer()  # Habilita o microfone para ouvir o usuario\n",
    "        with sr.Microphone() as source:\n",
    "            microfone.adjust_for_ambient_noise(source)  # Chama a funcao de reducao de ruido\n",
    "            print(texto_de_espera, ' '*20, end='\\r', flush=True)\n",
    "            #microfone.pause_threshold = 0.8\n",
    "            audio = microfone.listen(source,timeout=None)  # Armazena a informacao de audio na variavel    \n",
    "        try:\n",
    "            texto = microfone.recognize_google(audio, language='pt-BR')  # Transforma audio em texto\n",
    "            print(\"Você disse: \" + texto, ' '*20, end='\\r', flush=True)\n",
    "            return texto.lower()\n",
    "        # Caso nao tenha reconhecido o padrao de fala, exibe esta mensagem\n",
    "        except sr.UnknownValueError:\n",
    "            return \"Não entendi\"\n",
    "            \n"
   ]
  },
  {
   "cell_type": "code",
   "execution_count": 3,
   "metadata": {
    "pycharm": {
     "is_executing": true
    }
   },
   "outputs": [],
   "source": [
    "class ComandosEstagiario(object):\n",
    "        \n",
    "        __metaclass__=ABCMeta\n",
    "        \n",
    "        @abstractmethod\n",
    "        def _listaDeComandos():\n",
    "            pass\n",
    "\n",
    "        def __selecionaComando(self,comando):\n",
    "            comandos=self.listaDeComandos()\n",
    "            if comando in comandos.keys():\n",
    "                return True\n",
    "    \n",
    "        @staticmethod\n",
    "        def __identificaComando(frase):\n",
    "            cmd=identifica_comando(frase)\n",
    "            return cmd\n",
    "            \n",
    "        def _executaComando(self,voz):\n",
    "            comando=ComandosEstagiario.__identificaComando(voz)\n",
    "            try:\n",
    "                comando=comando['acao_rad']+'_'+comando['complem_rad']\n",
    "                print(comando)\n",
    "                if self.__selecionaComando(comando):\n",
    "                    return eval(f'{comando}()')     \n",
    "                else:\n",
    "                    #vai ter uma funcao pra ele falar(audio)\n",
    "                    print('desculpe mestre eu nao sei fazer isso,sei fazer apenas isso:\\n')\n",
    "                    return list_com()\n",
    "            except KeyError:\n",
    "                print(KeyError)"
   ]
  },
  {
   "cell_type": "code",
   "execution_count": 4,
   "metadata": {
    "pycharm": {
     "is_executing": true
    }
   },
   "outputs": [],
   "source": [
    "class Estagiario(ComandosEstagiario,ComunicacaoEstagiario):\n",
    "    \n",
    "    def __init__(self, microfone=True):\n",
    "        self._listaDeComandos=self._manipulaListaDeComandos()\n",
    "        self.microfone = microfone\n",
    "    \n",
    "    def activatedEstagiario(self):\n",
    "        frase = self.ouvir_microfone('Chame o Estagiário para começar') if self.microfone else input('Chamar: ')\n",
    "        if 'estagiário' in frase:\n",
    "            frase = self.ouvir_microfone('Oque devo fazer?') if self.microfone else input('Oque deve fazer: ')\n",
    "            print(self._executaComando(frase))\n",
    "        else:\n",
    "            print('estou dormindo', ' '*20, end='\\r', flush=True)\n",
    "            self.activatedEstagiario()       \n",
    "         \n",
    "    def _manipulaListaDeComandos(self):\n",
    "            with open('listaDeComandos.txt','r') as arquivo:\n",
    "                dic=arquivo.read()\n",
    "                dic=eval(dic)\n",
    "            return dic\n",
    "        \n",
    "    def listaDeComandos(self):\n",
    "        return self._listaDeComandos\n",
    "        \n",
    "    def interface(self):\n",
    "        self.activatedEstagiario()\n",
    "        self.interface()\n"
   ]
  },
  {
   "cell_type": "code",
   "execution_count": 5,
   "metadata": {
    "pycharm": {
     "is_executing": true
    },
    "scrolled": false
   },
   "outputs": [
    {
     "name": "stdout",
     "output_type": "stream",
     "text": [
      "final_sistemfinalizar sistema                       \n"
     ]
    },
    {
     "ename": "SystemExit",
     "evalue": "",
     "output_type": "error",
     "traceback": [
      "An exception has occurred, use %tb to see the full traceback.\n",
      "\u001b[1;31mSystemExit\u001b[0m\n"
     ]
    },
    {
     "name": "stderr",
     "output_type": "stream",
     "text": [
      "C:\\Users\\Renato\\Anaconda3\\lib\\site-packages\\IPython\\core\\interactiveshell.py:3275: UserWarning: To exit: use 'exit', 'quit', or Ctrl-D.\n",
      "  warn(\"To exit: use 'exit', 'quit', or Ctrl-D.\", stacklevel=1)\n"
     ]
    }
   ],
   "source": [
    "if __name__ == '__main__':\n",
    "    e=Estagiario(microfone=True)\n",
    "\n",
    "    e.interface()"
   ]
  }
 ],
 "metadata": {
  "kernelspec": {
   "display_name": "Python 3",
   "language": "python",
   "name": "python3"
  },
  "language_info": {
   "codemirror_mode": {
    "name": "ipython",
    "version": 3
   },
   "file_extension": ".py",
   "mimetype": "text/x-python",
   "name": "python",
   "nbconvert_exporter": "python",
   "pygments_lexer": "ipython3",
   "version": "3.7.1"
  },
  "latex_envs": {
   "LaTeX_envs_menu_present": true,
   "autoclose": false,
   "autocomplete": true,
   "bibliofile": "biblio.bib",
   "cite_by": "apalike",
   "current_citInitial": 1,
   "eqLabelWithNumbers": true,
   "eqNumInitial": 1,
   "hotkeys": {
    "equation": "Ctrl-E",
    "itemize": "Ctrl-I"
   },
   "labels_anchors": false,
   "latex_user_defs": false,
   "report_style_numbering": false,
   "user_envs_cfg": false
  }
 },
 "nbformat": 4,
 "nbformat_minor": 2
}
